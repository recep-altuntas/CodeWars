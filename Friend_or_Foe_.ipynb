{
  "nbformat": 4,
  "nbformat_minor": 0,
  "metadata": {
    "colab": {
      "name": "Friend or Foe?",
      "provenance": [],
      "collapsed_sections": []
    },
    "kernelspec": {
      "name": "python3",
      "display_name": "Python 3"
    },
    "language_info": {
      "name": "python"
    }
  },
  "cells": [
    {
      "cell_type": "code",
      "metadata": {
        "id": "-7tmYCRNy0N3"
      },
      "source": [
        "# Make a program that filters a list of strings and returns a list with only your friends name in it.\n",
        "# If a name has exactly 4 letters in it, you can be sure that it has to be a friend of yours! Otherwise, you can be sure he's not...\n",
        "# Ex: Input = [\"Ryan\", \"Kieran\", \"Jason\", \"Yous\"], Output = [\"Ryan\", \"Yous\"]\n",
        "# i.e.\n",
        "# friend [\"Ryan\", \"Kieran\", \"Mark\"] `shouldBe` [\"Ryan\", \"Mark\"]\n",
        "# Note: keep the original order of the names in the output.\n",
        "\n",
        "def friend(x):\n",
        "    liste=[]\n",
        "    for i in x:\n",
        "        if len(i)==4 and not i.isdigit():\n",
        "            liste.append(i)\n",
        "    return liste"
      ],
      "execution_count": null,
      "outputs": []
    }
  ]
}