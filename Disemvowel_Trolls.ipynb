{
  "nbformat": 4,
  "nbformat_minor": 0,
  "metadata": {
    "colab": {
      "name": "Disemvowel Trolls",
      "provenance": []
    },
    "kernelspec": {
      "name": "python3",
      "display_name": "Python 3"
    },
    "language_info": {
      "name": "python"
    }
  },
  "cells": [
    {
      "cell_type": "code",
      "metadata": {
        "id": "kkBliiJLK82v"
      },
      "source": [
        "# Trolls are attacking your comment section!\n",
        "# A common way to deal with this situation is to remove all of the vowels from the trolls' comments, neutralizing the threat.\n",
        "# Your task is to write a function that takes a string and return a new string with all vowels removed.\n",
        "# For example, the string \"This website is for losers LOL!\" would become \"Ths wbst s fr lsrs LL!\".\n",
        "\n",
        "def disemvowel(string_):\n",
        "  vowel=\"aeiouAEIOU\"\n",
        "  for i in string_:\n",
        "    if i in vowel:\n",
        "      string_=string_.replace(i, \"\")\n",
        "  return string_"
      ],
      "execution_count": null,
      "outputs": []
    }
  ]
}