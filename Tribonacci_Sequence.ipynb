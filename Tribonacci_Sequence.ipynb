{
  "nbformat": 4,
  "nbformat_minor": 0,
  "metadata": {
    "colab": {
      "name": "Tribonacci Sequence",
      "provenance": []
    },
    "kernelspec": {
      "name": "python3",
      "display_name": "Python 3"
    },
    "language_info": {
      "name": "python"
    }
  },
  "cells": [
    {
      "cell_type": "code",
      "metadata": {
        "id": "WXdDyXjxz7nx"
      },
      "source": [
        "def tribonacci(signature, n):\n",
        "    if n==0:\n",
        "        return []\n",
        "    elif n<3:\n",
        "        lste=[]\n",
        "        for i in range(n):\n",
        "            lste.append(signature[i])\n",
        "        return lste\n",
        "    else:\n",
        "        while len(signature)<n:\n",
        "            x= signature[-1] + signature[-2] + signature[-3]\n",
        "            signature.append(x)\n",
        "        return signature"
      ],
      "execution_count": null,
      "outputs": []
    }
  ]
}