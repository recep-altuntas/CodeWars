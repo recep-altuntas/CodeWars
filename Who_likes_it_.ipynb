{
  "nbformat": 4,
  "nbformat_minor": 0,
  "metadata": {
    "colab": {
      "name": "Who likes it?",
      "provenance": []
    },
    "kernelspec": {
      "name": "python3",
      "display_name": "Python 3"
    },
    "language_info": {
      "name": "python"
    }
  },
  "cells": [
    {
      "cell_type": "code",
      "metadata": {
        "id": "qBPEUQIut5AT"
      },
      "source": [
        "# likes([]) # must be \"no one likes this\"\n",
        "# likes([\"Peter\"]) # must be \"Peter likes this\"\n",
        "# likes([\"Jacob\", \"Alex\"]) # must be \"Jacob and Alex like this\"\n",
        "# likes([\"Max\", \"John\", \"Mark\"]) # must be \"Max, John and Mark like this\"\n",
        "# likes([\"Alex\", \"Jacob\", \"Mark\", \"Max\"]) # must be \"Alex, Jacob and 2 others like this\"\n",
        "\n",
        "def likes(names):\n",
        "    if names==[]:\n",
        "        return (\"no one likes this\")\n",
        "    if len(names)==1:\n",
        "        return (f\"{names[0]} likes this\")\n",
        "    if len(names)==2:\n",
        "        return (f\"{names[0]} and {names[1]} like this\")\n",
        "    if len(names)==3:\n",
        "        return (f\"{names[0]}, {names[1]} and {names[2]} like this\")\n",
        "    else:\n",
        "        return (f\"{names[0]}, {names[1]} and {len(names)-2} others like this\")"
      ],
      "execution_count": null,
      "outputs": []
    }
  ]
}