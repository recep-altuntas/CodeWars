{
  "nbformat": 4,
  "nbformat_minor": 0,
  "metadata": {
    "colab": {
      "name": "Jaden Casing Strings",
      "provenance": []
    },
    "kernelspec": {
      "name": "python3",
      "display_name": "Python 3"
    },
    "language_info": {
      "name": "python"
    }
  },
  "cells": [
    {
      "cell_type": "code",
      "metadata": {
        "id": "CzGp7baTrBud"
      },
      "source": [
        "def to_jaden_case(string):\n",
        "    liste=[]\n",
        "    for i in string.split():\n",
        "        liste.append(i.capitalize())\n",
        "    liste=\" \".join(liste)\n",
        "    return liste\n",
        "to_jaden_case(\"How can mirrors be real if our eyes aren't real\")\n",
        "\n",
        "# return \" \".join(w.capitalize() for w in string.split())"
      ],
      "execution_count": null,
      "outputs": []
    }
  ]
}