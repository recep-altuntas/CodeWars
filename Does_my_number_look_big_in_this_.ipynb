{
  "nbformat": 4,
  "nbformat_minor": 0,
  "metadata": {
    "colab": {
      "name": "Does my number look big in this?",
      "provenance": []
    },
    "kernelspec": {
      "name": "python3",
      "display_name": "Python 3"
    },
    "language_info": {
      "name": "python"
    }
  },
  "cells": [
    {
      "cell_type": "code",
      "metadata": {
        "id": "r0vNlp4q1PHY"
      },
      "source": [
        "# A Narcissistic Number is a positive number which is the sum of its own digits, each raised to the power of the number of digits in a given base. In this Kata, we will restrict ourselves to decimal (base 10).\n",
        "# For example, take 153 (3 digits), which is narcisstic:\n",
        "#     1^3 + 5^3 + 3^3 = 1 + 125 + 27 = 153\n",
        "# The Challenge:\n",
        "# Your code must return true or false depending upon whether the given number is a Narcissistic number in base 10.\n",
        "# Error checking for text strings or other invalid inputs is not required, only valid positive non-zero integers will be passed into the function.\n",
        "\n",
        "def narcissistic( value ):\n",
        "    value=str(value)\n",
        "    sum=0\n",
        "    for i in value:\n",
        "        sum+=int(i)**len(value)\n",
        "    return sum == int(value)"
      ],
      "execution_count": null,
      "outputs": []
    }
  ]
}