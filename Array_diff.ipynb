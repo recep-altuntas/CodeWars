{
  "nbformat": 4,
  "nbformat_minor": 0,
  "metadata": {
    "colab": {
      "name": "Array.diff",
      "provenance": []
    },
    "kernelspec": {
      "name": "python3",
      "display_name": "Python 3"
    },
    "language_info": {
      "name": "python"
    }
  },
  "cells": [
    {
      "cell_type": "code",
      "metadata": {
        "id": "QWGRVbdOkGx2"
      },
      "source": [
        "# Your goal in this kata is to implement a difference function, \n",
        "# which subtracts one list from another and returns the result.\n",
        "# It should remove all values from list a, which are present in list b keeping their order.\n",
        "# array_diff([1,2],[1]) == [2]\n",
        "# array_diff([1,2,2,2,3],[2]) == [1,3]\n",
        "\n",
        "def array_diff(a,b):\n",
        "  liste=[]\n",
        "  for i in a:\n",
        "    if i not in b:\n",
        "      liste.append(i)\n",
        "  return liste"
      ],
      "execution_count": null,
      "outputs": []
    }
  ]
}