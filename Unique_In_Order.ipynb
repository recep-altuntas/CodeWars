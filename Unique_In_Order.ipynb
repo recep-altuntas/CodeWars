{
  "nbformat": 4,
  "nbformat_minor": 0,
  "metadata": {
    "colab": {
      "name": "Unique In Order",
      "provenance": []
    },
    "kernelspec": {
      "name": "python3",
      "display_name": "Python 3"
    },
    "language_info": {
      "name": "python"
    }
  },
  "cells": [
    {
      "cell_type": "code",
      "metadata": {
        "id": "7cpmx6sLclT3"
      },
      "source": [
        "# Implement the function unique_in_order which takes as argument a sequence and \n",
        "# returns a list of items without any elements with the same value next to each other and preserving the original order of elements.\n",
        "# For example:\n",
        "\n",
        "# unique_in_order('AAAABBBCCDAABBB') == ['A', 'B', 'C', 'D', 'A', 'B']\n",
        "# unique_in_order('ABBCcAD')         == ['A', 'B', 'C', 'c', 'A', 'D']\n",
        "# unique_in_order([1,2,2,3,3])       == [1,2,3]\n",
        "\n",
        "def unique_in_order(iterable):\n",
        "    x=\"\"\n",
        "    liste=[]\n",
        "    for i in iterable:\n",
        "        if i != x:\n",
        "            liste.append(i)\n",
        "            x=i\n",
        "    return liste\n",
        "\n",
        "# def unique_in_order(iterable):\n",
        "#     res = []\n",
        "#     for item in iterable:\n",
        "#         if len(res) == 0 or item != res[-1]:\n",
        "#             res.append(item)\n",
        "#     return res\n"
      ],
      "execution_count": null,
      "outputs": []
    }
  ]
}