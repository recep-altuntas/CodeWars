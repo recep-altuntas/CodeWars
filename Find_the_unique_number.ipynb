{
  "nbformat": 4,
  "nbformat_minor": 0,
  "metadata": {
    "colab": {
      "name": "Find the unique number",
      "provenance": []
    },
    "kernelspec": {
      "name": "python3",
      "display_name": "Python 3"
    },
    "language_info": {
      "name": "python"
    }
  },
  "cells": [
    {
      "cell_type": "code",
      "metadata": {
        "id": "vp_NYkGfu3cv"
      },
      "source": [
        "# There is an array with some numbers. All numbers are equal except for one. Try to find it!\n",
        "\n",
        "# find_uniq([ 1, 1, 1, 2, 1, 1 ]) == 2\n",
        "# find_uniq([ 0, 0, 0.55, 0, 0 ]) == 0.55\n",
        "# It’s guaranteed that array contains at least 3 numbers.\n",
        "\n",
        "# The tests contain some very huge arrays, so think about performance.\n",
        "\n",
        "def find_uniq(arr):\n",
        "    x,y=set(arr)\n",
        "    return x if arr.count(x)==1 else y\n",
        "\n",
        "# def find_uniq(arr):\n",
        "#     s = set(arr)\n",
        "#     for e in s:\n",
        "#         if arr.count(e) == 1:\n",
        "#             return e"
      ],
      "execution_count": null,
      "outputs": []
    }
  ]
}