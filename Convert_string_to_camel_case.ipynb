{
  "nbformat": 4,
  "nbformat_minor": 0,
  "metadata": {
    "colab": {
      "name": "Convert string to camel case",
      "provenance": []
    },
    "kernelspec": {
      "name": "python3",
      "display_name": "Python 3"
    },
    "language_info": {
      "name": "python"
    }
  },
  "cells": [
    {
      "cell_type": "code",
      "metadata": {
        "id": "GDK68zuHH2fG"
      },
      "source": [
        "# Complete the method/function so that it converts dash/underscore delimited words into camel casing. \n",
        "# The first word within the output should be capitalized only if the original word was capitalized\n",
        "#  (known as Upper Camel Case, also often referred to as Pascal case).\n",
        "\n",
        "# Examples\n",
        "# \"the-stealth-warrior\" gets converted to \"theStealthWarrior\"\n",
        "# \"The_Stealth_Warrior\" gets converted to \"TheStealthWarrior\"\n",
        "\n",
        "def to_camel_case(text):\n",
        "    if text == \"\":\n",
        "        return \"\"\n",
        "    else:\n",
        "        text=text.replace(\"-\",\" \").replace(\"_\",\" \").split()\n",
        "        x = text[0]\n",
        "        text.remove(text[0])\n",
        "        text = [i.title() for i in text]\n",
        "        text.insert(0,x)\n",
        "        text = \"\".join(text)\n",
        "        return text\n",
        "\n",
        "# def to_camel_case(text):\n",
        "#     removed = text.replace('-', ' ').replace('_', ' ').split()\n",
        "#     if len(removed) == 0:\n",
        "#         return ''\n",
        "#     return removed[0]+ ''.join([x.capitalize() for x in removed[1:]])\n",
        "\n",
        "# def to_camel_case(text):\n",
        "#     return text[0] + text.title().translate(None, \"-_\")[1:] if text else text"
      ],
      "execution_count": null,
      "outputs": []
    }
  ]
}